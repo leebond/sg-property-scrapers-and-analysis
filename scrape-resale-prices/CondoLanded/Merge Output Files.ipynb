{
 "cells": [
  {
   "cell_type": "markdown",
   "metadata": {},
   "source": [
    "# Merge partial data files"
   ]
  },
  {
   "cell_type": "code",
   "execution_count": 2,
   "metadata": {},
   "outputs": [],
   "source": [
    "import os, sys, re\n",
    "import pandas as pd\n",
    "import numpy as np\n",
    "from datetime import datetime\n",
    "import matplotlib.pyplot as plt\n",
    "from glob import glob"
   ]
  },
  {
   "cell_type": "code",
   "execution_count": 3,
   "metadata": {},
   "outputs": [],
   "source": [
    "all_output_files = glob(os.path.join('.','output','*.xlsx'))"
   ]
  },
  {
   "cell_type": "code",
   "execution_count": 4,
   "metadata": {},
   "outputs": [
    {
     "data": {
      "text/plain": [
       "['.\\\\output\\\\Private_resale_prices_2020-10-18.xlsx',\n",
       " '.\\\\output\\\\Private_resale_prices_2020-10-18COSY LODGE.xlsx',\n",
       " '.\\\\output\\\\Private_resale_prices_2020-10-18RIVERIA GARDENS.xlsx',\n",
       " '.\\\\output\\\\Private_resale_prices_2020-11-15ZEPHYR PARK.xlsx',\n",
       " '.\\\\output\\\\Private_resale_prices_2020-12-24new.xlsx',\n",
       " '.\\\\output\\\\Private_resale_prices_2020-12-25THE GREENWICH.xlsx']"
      ]
     },
     "execution_count": 4,
     "metadata": {},
     "output_type": "execute_result"
    }
   ],
   "source": [
    "all_output_files"
   ]
  },
  {
   "cell_type": "code",
   "execution_count": 5,
   "metadata": {},
   "outputs": [],
   "source": [
    "condo1 = pd.read_excel(all_output_files[-2])\n",
    "condo2 = pd.read_excel(all_output_files[-1])"
   ]
  },
  {
   "cell_type": "code",
   "execution_count": 6,
   "metadata": {},
   "outputs": [],
   "source": [
    "condo = condo1.append(condo2)"
   ]
  },
  {
   "cell_type": "code",
   "execution_count": 7,
   "metadata": {},
   "outputs": [
    {
     "data": {
      "text/plain": [
       "(112657, 15)"
      ]
     },
     "execution_count": 7,
     "metadata": {},
     "output_type": "execute_result"
    }
   ],
   "source": [
    "condo.shape"
   ]
  },
  {
   "cell_type": "code",
   "execution_count": 8,
   "metadata": {},
   "outputs": [
    {
     "data": {
      "text/html": [
       "<div>\n",
       "<style scoped>\n",
       "    .dataframe tbody tr th:only-of-type {\n",
       "        vertical-align: middle;\n",
       "    }\n",
       "\n",
       "    .dataframe tbody tr th {\n",
       "        vertical-align: top;\n",
       "    }\n",
       "\n",
       "    .dataframe thead th {\n",
       "        text-align: right;\n",
       "    }\n",
       "</style>\n",
       "<table border=\"1\" class=\"dataframe\">\n",
       "  <thead>\n",
       "    <tr style=\"text-align: right;\">\n",
       "      <th></th>\n",
       "      <th>Project Name</th>\n",
       "      <th>Street Name</th>\n",
       "      <th>Type</th>\n",
       "      <th>Postal District</th>\n",
       "      <th>Market Segment</th>\n",
       "      <th>Tenure</th>\n",
       "      <th>Type of Sale</th>\n",
       "      <th>No. of Units</th>\n",
       "      <th>Price</th>\n",
       "      <th>Nett Price</th>\n",
       "      <th>Area (Sqft)</th>\n",
       "      <th>Type of Area</th>\n",
       "      <th>Floor Level</th>\n",
       "      <th>Unit Price ($psf)</th>\n",
       "      <th>Date of Sale</th>\n",
       "    </tr>\n",
       "  </thead>\n",
       "  <tbody>\n",
       "    <tr>\n",
       "      <th>0</th>\n",
       "      <td># 1 LOFT</td>\n",
       "      <td>LORONG 24 GEYLANG</td>\n",
       "      <td>Apartment</td>\n",
       "      <td>14</td>\n",
       "      <td>RCR</td>\n",
       "      <td>Freehold</td>\n",
       "      <td>Resale</td>\n",
       "      <td>1</td>\n",
       "      <td>610000</td>\n",
       "      <td>-</td>\n",
       "      <td>581</td>\n",
       "      <td>Strata</td>\n",
       "      <td>06 to 10</td>\n",
       "      <td>1049</td>\n",
       "      <td>Nov-20</td>\n",
       "    </tr>\n",
       "    <tr>\n",
       "      <th>1</th>\n",
       "      <td># 1 LOFT</td>\n",
       "      <td>LORONG 24 GEYLANG</td>\n",
       "      <td>Apartment</td>\n",
       "      <td>14</td>\n",
       "      <td>RCR</td>\n",
       "      <td>Freehold</td>\n",
       "      <td>Resale</td>\n",
       "      <td>1</td>\n",
       "      <td>680000</td>\n",
       "      <td>-</td>\n",
       "      <td>581</td>\n",
       "      <td>Strata</td>\n",
       "      <td>06 to 10</td>\n",
       "      <td>1170</td>\n",
       "      <td>Nov-20</td>\n",
       "    </tr>\n",
       "    <tr>\n",
       "      <th>2</th>\n",
       "      <td># 1 LOFT</td>\n",
       "      <td>LORONG 24 GEYLANG</td>\n",
       "      <td>Apartment</td>\n",
       "      <td>14</td>\n",
       "      <td>RCR</td>\n",
       "      <td>Freehold</td>\n",
       "      <td>Resale</td>\n",
       "      <td>1</td>\n",
       "      <td>985000</td>\n",
       "      <td>-</td>\n",
       "      <td>936</td>\n",
       "      <td>Strata</td>\n",
       "      <td>06 to 10</td>\n",
       "      <td>1052</td>\n",
       "      <td>Apr-20</td>\n",
       "    </tr>\n",
       "    <tr>\n",
       "      <th>3</th>\n",
       "      <td># 1 LOFT</td>\n",
       "      <td>LORONG 24 GEYLANG</td>\n",
       "      <td>Apartment</td>\n",
       "      <td>14</td>\n",
       "      <td>RCR</td>\n",
       "      <td>Freehold</td>\n",
       "      <td>Resale</td>\n",
       "      <td>1</td>\n",
       "      <td>615000</td>\n",
       "      <td>-</td>\n",
       "      <td>549</td>\n",
       "      <td>Strata</td>\n",
       "      <td>06 to 10</td>\n",
       "      <td>1120</td>\n",
       "      <td>Dec-19</td>\n",
       "    </tr>\n",
       "    <tr>\n",
       "      <th>4</th>\n",
       "      <td># 1 LOFT</td>\n",
       "      <td>LORONG 24 GEYLANG</td>\n",
       "      <td>Apartment</td>\n",
       "      <td>14</td>\n",
       "      <td>RCR</td>\n",
       "      <td>Freehold</td>\n",
       "      <td>Resale</td>\n",
       "      <td>1</td>\n",
       "      <td>675000</td>\n",
       "      <td>-</td>\n",
       "      <td>570</td>\n",
       "      <td>Strata</td>\n",
       "      <td>01 to 05</td>\n",
       "      <td>1183</td>\n",
       "      <td>Sep-19</td>\n",
       "    </tr>\n",
       "  </tbody>\n",
       "</table>\n",
       "</div>"
      ],
      "text/plain": [
       "  Project Name        Street Name       Type  Postal District Market Segment  \\\n",
       "0     # 1 LOFT  LORONG 24 GEYLANG  Apartment               14            RCR   \n",
       "1     # 1 LOFT  LORONG 24 GEYLANG  Apartment               14            RCR   \n",
       "2     # 1 LOFT  LORONG 24 GEYLANG  Apartment               14            RCR   \n",
       "3     # 1 LOFT  LORONG 24 GEYLANG  Apartment               14            RCR   \n",
       "4     # 1 LOFT  LORONG 24 GEYLANG  Apartment               14            RCR   \n",
       "\n",
       "     Tenure Type of Sale  No. of Units   Price Nett Price  Area (Sqft)  \\\n",
       "0  Freehold       Resale             1  610000          -          581   \n",
       "1  Freehold       Resale             1  680000          -          581   \n",
       "2  Freehold       Resale             1  985000          -          936   \n",
       "3  Freehold       Resale             1  615000          -          549   \n",
       "4  Freehold       Resale             1  675000          -          570   \n",
       "\n",
       "  Type of Area Floor Level  Unit Price ($psf) Date of Sale  \n",
       "0       Strata    06 to 10               1049       Nov-20  \n",
       "1       Strata    06 to 10               1170       Nov-20  \n",
       "2       Strata    06 to 10               1052       Apr-20  \n",
       "3       Strata    06 to 10               1120       Dec-19  \n",
       "4       Strata    01 to 05               1183       Sep-19  "
      ]
     },
     "execution_count": 8,
     "metadata": {},
     "output_type": "execute_result"
    }
   ],
   "source": [
    "condo.head()"
   ]
  },
  {
   "cell_type": "code",
   "execution_count": 11,
   "metadata": {},
   "outputs": [],
   "source": [
    "output_path = os.path.join('.','output',f'Condo_resale_prices_{datetime.now().date()}.xlsx')\n",
    "condo.to_excel(output_path)"
   ]
  },
  {
   "cell_type": "code",
   "execution_count": null,
   "metadata": {},
   "outputs": [],
   "source": []
  }
 ],
 "metadata": {
  "kernelspec": {
   "display_name": "Python 3",
   "language": "python",
   "name": "python3"
  },
  "language_info": {
   "codemirror_mode": {
    "name": "ipython",
    "version": 3
   },
   "file_extension": ".py",
   "mimetype": "text/x-python",
   "name": "python",
   "nbconvert_exporter": "python",
   "pygments_lexer": "ipython3",
   "version": "3.7.7"
  }
 },
 "nbformat": 4,
 "nbformat_minor": 4
}
